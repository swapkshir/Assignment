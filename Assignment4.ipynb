{
 "cells": [
  {
   "cell_type": "code",
   "execution_count": null,
   "id": "cb8a39e0",
   "metadata": {},
   "outputs": [],
   "source": [
    "#Q1\n",
    "'''\n",
    "[] >> used to creat list\n",
    "'''"
   ]
  },
  {
   "cell_type": "code",
   "execution_count": 1,
   "id": "be24d025",
   "metadata": {},
   "outputs": [],
   "source": [
    "#Q2\n",
    "spam=[2,4,6,8,10]\n",
    "spam.insert(2,\"hello\")"
   ]
  },
  {
   "cell_type": "code",
   "execution_count": 3,
   "id": "93bcacc7",
   "metadata": {},
   "outputs": [
    {
     "data": {
      "text/plain": [
       "'d'"
      ]
     },
     "execution_count": 3,
     "metadata": {},
     "output_type": "execute_result"
    }
   ],
   "source": [
    "#Q3\n",
    "spam=['a','b','c','d']\n",
    "\n",
    "spam[int(int('3' * 2) / 11)]"
   ]
  },
  {
   "cell_type": "code",
   "execution_count": 4,
   "id": "8092a760",
   "metadata": {},
   "outputs": [
    {
     "data": {
      "text/plain": [
       "'d'"
      ]
     },
     "execution_count": 4,
     "metadata": {},
     "output_type": "execute_result"
    }
   ],
   "source": [
    "#Q4\n",
    "spam[-1]"
   ]
  },
  {
   "cell_type": "code",
   "execution_count": 5,
   "id": "2e95b2d4",
   "metadata": {},
   "outputs": [
    {
     "data": {
      "text/plain": [
       "['a', 'b']"
      ]
     },
     "execution_count": 5,
     "metadata": {},
     "output_type": "execute_result"
    }
   ],
   "source": [
    "#Q5\n",
    "spam[:2]"
   ]
  },
  {
   "cell_type": "code",
   "execution_count": 12,
   "id": "b55a6a61",
   "metadata": {},
   "outputs": [],
   "source": [
    "#Q6\n",
    "bacon=[3.14, 'cat', 11, 'cat', True] "
   ]
  },
  {
   "cell_type": "code",
   "execution_count": 13,
   "id": "b7896847",
   "metadata": {},
   "outputs": [
    {
     "data": {
      "text/plain": [
       "1"
      ]
     },
     "execution_count": 13,
     "metadata": {},
     "output_type": "execute_result"
    }
   ],
   "source": [
    "bacon.index('cat')"
   ]
  },
  {
   "cell_type": "code",
   "execution_count": 14,
   "id": "76d53926",
   "metadata": {},
   "outputs": [
    {
     "data": {
      "text/plain": [
       "[3.14, 'cat', 11, 'cat', True, 99]"
      ]
     },
     "execution_count": 14,
     "metadata": {},
     "output_type": "execute_result"
    }
   ],
   "source": [
    "#Q7\n",
    "bacon.append(99)\n",
    "bacon"
   ]
  },
  {
   "cell_type": "code",
   "execution_count": 15,
   "id": "973f9886",
   "metadata": {},
   "outputs": [
    {
     "data": {
      "text/plain": [
       "[3.14, 11, 'cat', True, 99]"
      ]
     },
     "execution_count": 15,
     "metadata": {},
     "output_type": "execute_result"
    }
   ],
   "source": [
    "#Q8\n",
    "bacon.remove('cat') \n",
    "bacon"
   ]
  },
  {
   "cell_type": "code",
   "execution_count": null,
   "id": "49c15f93",
   "metadata": {},
   "outputs": [],
   "source": [
    "#Q9\n",
    "'''concatenation>>> + operator is used to concatenate\n",
    "   replication>>> \n",
    "'''"
   ]
  },
  {
   "cell_type": "code",
   "execution_count": null,
   "id": "ddf1b3b4",
   "metadata": {},
   "outputs": [],
   "source": [
    "#Q10\n",
    "'''\n",
    "append()>>> append is used to insert element in last index\n",
    "insert()>>> insert is used to insert element at specific location\n",
    "'''"
   ]
  },
  {
   "cell_type": "code",
   "execution_count": 20,
   "id": "18cfaac2",
   "metadata": {},
   "outputs": [
    {
     "data": {
      "text/plain": [
       "[4, 3, 6, 7]"
      ]
     },
     "execution_count": 20,
     "metadata": {},
     "output_type": "execute_result"
    }
   ],
   "source": [
    "#Q11\n",
    "'''pop()>>>pop is use dto remove element as per index location\n",
    "   remove()>>>rempove is used to remove element by matching value \n",
    "'''\n",
    "l=[4,3,4,6,7]\n",
    "l.pop(2)\n",
    "l"
   ]
  },
  {
   "cell_type": "code",
   "execution_count": 21,
   "id": "5edbbfa1",
   "metadata": {},
   "outputs": [],
   "source": [
    "l.remove(6)\n"
   ]
  },
  {
   "cell_type": "code",
   "execution_count": 22,
   "id": "31a011ba",
   "metadata": {},
   "outputs": [
    {
     "data": {
      "text/plain": [
       "[4, 3, 7]"
      ]
     },
     "execution_count": 22,
     "metadata": {},
     "output_type": "execute_result"
    }
   ],
   "source": [
    "l"
   ]
  },
  {
   "cell_type": "code",
   "execution_count": null,
   "id": "dffdead7",
   "metadata": {},
   "outputs": [],
   "source": [
    "#Q12\n",
    "'''\n",
    "List values and string values both are stored in memory by index postion\n",
    "List and string can be find on the basis of index position\n",
    "'''"
   ]
  },
  {
   "cell_type": "code",
   "execution_count": null,
   "id": "3a4616a0",
   "metadata": {},
   "outputs": [],
   "source": [
    "#13\n",
    "'''\n",
    "Tuple()>>>> tuple is immutable. \n",
    "list[]>>> list is mutable\n",
    "only count and index method is used for tuple\n",
    "'''"
   ]
  },
  {
   "cell_type": "code",
   "execution_count": 23,
   "id": "7c5e04ca",
   "metadata": {},
   "outputs": [],
   "source": [
    "#Q14\n",
    "tup=(42)"
   ]
  },
  {
   "cell_type": "code",
   "execution_count": 24,
   "id": "59861963",
   "metadata": {},
   "outputs": [
    {
     "data": {
      "text/plain": [
       "42"
      ]
     },
     "execution_count": 24,
     "metadata": {},
     "output_type": "execute_result"
    }
   ],
   "source": [
    "tup\n"
   ]
  },
  {
   "cell_type": "code",
   "execution_count": null,
   "id": "cb601ee5",
   "metadata": {},
   "outputs": [],
   "source": [
    "#Q15\n",
    "'''\n",
    "tuple to list>>> l=list(t)\n",
    "list to tuple>>> t=tuple(l)\n",
    "'''"
   ]
  },
  {
   "cell_type": "code",
   "execution_count": null,
   "id": "83fe8fbc",
   "metadata": {},
   "outputs": [],
   "source": [
    "#Q17\n",
    "'''\n",
    "copy.copy()>>>> copy function is used for shallow copy the list. In shallow copy changes made in copied list is  \n",
    "                reflected in origional.\n",
    "copy.deepcopy()>>>> deepcopy function is used for copy the list. In deep copy changes made in copied list is  \n",
    "                not reflected in origional.                 \n",
    "'''"
   ]
  }
 ],
 "metadata": {
  "kernelspec": {
   "display_name": "Python 3 (ipykernel)",
   "language": "python",
   "name": "python3"
  },
  "language_info": {
   "codemirror_mode": {
    "name": "ipython",
    "version": 3
   },
   "file_extension": ".py",
   "mimetype": "text/x-python",
   "name": "python",
   "nbconvert_exporter": "python",
   "pygments_lexer": "ipython3",
   "version": "3.9.7"
  }
 },
 "nbformat": 4,
 "nbformat_minor": 5
}
