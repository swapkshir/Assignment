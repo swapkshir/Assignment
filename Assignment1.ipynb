{
 "cells": [
  {
   "cell_type": "markdown",
   "id": "d29ca13f",
   "metadata": {},
   "source": []
  },
  {
   "cell_type": "code",
   "execution_count": 1,
   "id": "0c590f7d",
   "metadata": {},
   "outputs": [],
   "source": [
    "#Q1\n",
    "'''values>> 'hello',-87.8,6\n",
    "   operators>> *,-,/,+'''\n"
   ]
  },
  {
   "cell_type": "code",
   "execution_count": null,
   "id": "f6f6c3e2",
   "metadata": {},
   "outputs": [],
   "source": [
    "#Q2\n",
    "'''string>> string is values assigned in double quotes\n",
    "   variable>> variable is the name of the location in which it is stored'''\n"
   ]
  },
  {
   "cell_type": "code",
   "execution_count": null,
   "id": "1c7725bc",
   "metadata": {},
   "outputs": [],
   "source": [
    "#Q3\n",
    "'''int>> takes integer value\n",
    "   boolean>> takes True and False\n",
    "   string>> takes any values within quotes\n",
    "'''"
   ]
  },
  {
   "cell_type": "code",
   "execution_count": null,
   "id": "9cdccdbb",
   "metadata": {},
   "outputs": [],
   "source": [
    "#Q4\n",
    "'''expression>> it is combination of different operators used to produce some values after calculation'''"
   ]
  },
  {
   "cell_type": "code",
   "execution_count": null,
   "id": "4086af2a",
   "metadata": {},
   "outputs": [],
   "source": [
    "#Q5\n",
    "'''Expression in combination of operators\n",
    "   Assignment operator like spam = 10 ,this creates spam variable and stores 10 value in spam variable.\n",
    "'''"
   ]
  },
  {
   "cell_type": "code",
   "execution_count": 2,
   "id": "82985833",
   "metadata": {},
   "outputs": [
    {
     "data": {
      "text/plain": [
       "23"
      ]
     },
     "execution_count": 2,
     "metadata": {},
     "output_type": "execute_result"
    }
   ],
   "source": [
    "#Q6\n",
    "bacon = 22\n",
    "bacon + 1\n"
   ]
  },
  {
   "cell_type": "code",
   "execution_count": 4,
   "id": "1227bdb4",
   "metadata": {},
   "outputs": [
    {
     "data": {
      "text/plain": [
       "'spamspamspam'"
      ]
     },
     "execution_count": 4,
     "metadata": {},
     "output_type": "execute_result"
    }
   ],
   "source": [
    "#Q7\n",
    "'spam' + 'spamspam'\n",
    "\n"
   ]
  },
  {
   "cell_type": "code",
   "execution_count": 5,
   "id": "a7b18974",
   "metadata": {},
   "outputs": [
    {
     "data": {
      "text/plain": [
       "'spamspamspam'"
      ]
     },
     "execution_count": 5,
     "metadata": {},
     "output_type": "execute_result"
    }
   ],
   "source": [
    "#Q7\n",
    "'spam' * 3\n"
   ]
  },
  {
   "cell_type": "code",
   "execution_count": null,
   "id": "932141a6",
   "metadata": {},
   "outputs": [],
   "source": [
    "#Q8\n",
    "'''variable name always starts from character. integer is not allowed at 1st postion of variable anme'''"
   ]
  },
  {
   "cell_type": "code",
   "execution_count": null,
   "id": "ff5ba89a",
   "metadata": {},
   "outputs": [],
   "source": [
    "#Q9\n",
    "''' int(x)\n",
    "    float(x)\n",
    "    string(x)'''"
   ]
  },
  {
   "cell_type": "code",
   "execution_count": 9,
   "id": "7bb873d2",
   "metadata": {},
   "outputs": [
    {
     "data": {
      "text/plain": [
       "'I have eaten 99 burritos.'"
      ]
     },
     "execution_count": 9,
     "metadata": {},
     "output_type": "execute_result"
    }
   ],
   "source": [
    "#Q10\n",
    "'''same data type can be conacatenat but here 99 is integer and othesr are string\n",
    "   soln>> 'I have eaten ' + '99' + ' burritos.'\n",
    "\n",
    "'''\n"
   ]
  },
  {
   "cell_type": "code",
   "execution_count": null,
   "id": "feb2e271",
   "metadata": {},
   "outputs": [],
   "source": []
  }
 ],
 "metadata": {
  "kernelspec": {
   "display_name": "Python 3 (ipykernel)",
   "language": "python",
   "name": "python3"
  },
  "language_info": {
   "codemirror_mode": {
    "name": "ipython",
    "version": 3
   },
   "file_extension": ".py",
   "mimetype": "text/x-python",
   "name": "python",
   "nbconvert_exporter": "python",
   "pygments_lexer": "ipython3",
   "version": "3.9.7"
  }
 },
 "nbformat": 4,
 "nbformat_minor": 5
}
